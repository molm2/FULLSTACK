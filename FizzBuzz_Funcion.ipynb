{
 "cells": [
  {
   "cell_type": "markdown",
   "metadata": {},
   "source": [
    "### **188. Fizz Buzz Exercise.**  \n",
    "Write a program that prints the numbers from 1 to 100.  \n",
    "But for multiples of three print **\"Fizz\"** instead of the number and for multiples of five print **\"Buzz\"**.  \n",
    "For numbers which are multiples of both three and five print **\"FizzBuzz\"**."
   ]
  },
  {
   "cell_type": "code",
   "execution_count": 1,
   "metadata": {},
   "outputs": [
    {
     "name": "stdout",
     "output_type": "stream",
     "text": [
      "1\n",
      "2\n",
      "Fizz\n",
      "4\n",
      "Buzz\n",
      "Fizz\n",
      "7\n",
      "8\n",
      "Fizz\n",
      "Buzz\n",
      "11\n",
      "Fizz\n",
      "13\n",
      "14\n",
      "FizzBuzz\n",
      "16\n",
      "17\n",
      "Fizz\n",
      "19\n",
      "Buzz\n",
      "Fizz\n",
      "22\n",
      "23\n",
      "Fizz\n",
      "Buzz\n",
      "26\n",
      "Fizz\n",
      "28\n",
      "29\n",
      "FizzBuzz\n",
      "31\n",
      "32\n",
      "Fizz\n",
      "34\n",
      "Buzz\n",
      "Fizz\n",
      "37\n",
      "38\n",
      "Fizz\n",
      "Buzz\n",
      "41\n",
      "Fizz\n",
      "43\n",
      "44\n",
      "FizzBuzz\n"
     ]
    }
   ],
   "source": [
    "def fizz_buzz_function(num_max):\n",
    "    if num_max < 1:\n",
    "        print(\"El número no puede ser menor que 1\")\n",
    "    else:    \n",
    "        #sequence = list (range (1, num_max +1))\n",
    "        #for number in sequence:(esta es mi opción y la siguiente la solución)\n",
    "        for number in range (1, num_max +1):\n",
    "            if number % 3 == 0  and number % 5 == 0:\n",
    "                print(\"FizzBuzz\")\n",
    "            elif number % 3 == 0:\n",
    "                print(\"Fizz\")\n",
    "            elif number % 5 == 0:\n",
    "                print(\"Buzz\")\n",
    "            \n",
    "            else:\n",
    "                print(number)\n",
    "    \n",
    "\n",
    "fizz_buzz_function(45)"
   ]
  }
 ],
 "metadata": {
  "kernelspec": {
   "display_name": "Python 3",
   "language": "python",
   "name": "python3"
  },
  "language_info": {
   "codemirror_mode": {
    "name": "ipython",
    "version": 3
   },
   "file_extension": ".py",
   "mimetype": "text/x-python",
   "name": "python",
   "nbconvert_exporter": "python",
   "pygments_lexer": "ipython3",
   "version": "3.13.2"
  }
 },
 "nbformat": 4,
 "nbformat_minor": 2
}
