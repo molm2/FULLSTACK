{
 "cells": [
  {
   "cell_type": "markdown",
   "metadata": {},
   "source": [
    "# CHECKPOINT 4"
   ]
  },
  {
   "cell_type": "markdown",
   "metadata": {},
   "source": [
    "## Python Assignment"
   ]
  },
  {
   "cell_type": "markdown",
   "metadata": {},
   "source": [
    "Exercise 1: Create a list, tuple, float, integer, decimal and dictionary."
   ]
  },
  {
   "cell_type": "code",
   "execution_count": 3,
   "metadata": {},
   "outputs": [
    {
     "name": "stdout",
     "output_type": "stream",
     "text": [
      "5 es del tipo <class 'int'>\n",
      "5.5 es del tipo <class 'float'>\n",
      "3.141593653999999791182062836014665663242340087890625 es del tipo <class 'decimal.Decimal'>\n",
      "['Euskadi', 'Navarra', 'Cantabria', 'Asturias'] es del tipo <class 'list'>\n",
      "('Galicia', 'Madrid', 'La Rioja') es del tipo <class 'tuple'>\n",
      "{'Euskadi': ('Gipuzkoa', 'Bizkaia', 'Araba'), 'Cantabria': 'Santander', 'Asturias': 'Asturias'} es del tipo <class 'dict'>\n"
     ]
    }
   ],
   "source": [
    "mi_entero = 5\n",
    "print(f\"{mi_entero} es del tipo {type(mi_entero)}\")\n",
    "\n",
    "mi_float = 5.5\n",
    "print(f\"{mi_float} es del tipo {type(mi_float)}\")\n",
    "\n",
    "from decimal import Decimal\n",
    "mi_decimal = Decimal(3.141593654)\n",
    "print(f\"{mi_decimal} es del tipo {type(mi_decimal)}\")\n",
    "\n",
    "mi_lista = [\"Euskadi\",\"Navarra\",\"Cantabria\",\"Asturias\"]\n",
    "print(f\"{mi_lista} es del tipo {type(mi_lista)}\")\n",
    "\n",
    "mi_tupla = (\"Galicia\",\"Madrid\",\"La Rioja\")\n",
    "print(f\"{mi_tupla} es del tipo {type(mi_tupla)}\")\n",
    "\n",
    "mi_diccionario = {\n",
    "    \"Euskadi\"    : (\"Gipuzkoa\",\"Bizkaia\",\"Araba\"),\n",
    "    \"Cantabria\"  : \"Santander\",\n",
    "    \"Asturias\"   : \"Asturias\"\n",
    "}\n",
    "print(f\"{mi_diccionario} es del tipo {type(mi_diccionario)}\")"
   ]
  },
  {
   "cell_type": "markdown",
   "metadata": {},
   "source": [
    "Exercise 2 : Round your float up."
   ]
  },
  {
   "cell_type": "code",
   "execution_count": 4,
   "metadata": {},
   "outputs": [
    {
     "name": "stdout",
     "output_type": "stream",
     "text": [
      "Sin redondear =  5.5 y redondeando al alza =  6\n"
     ]
    }
   ],
   "source": [
    "import math\n",
    "mi_round_float = math.ceil(mi_float)\n",
    "print(f\"Sin redondear =  {mi_float} y redondeando al alza =  {mi_round_float}\")"
   ]
  },
  {
   "cell_type": "markdown",
   "metadata": {},
   "source": [
    "Exercise 3: Ger the square root of your float."
   ]
  },
  {
   "cell_type": "code",
   "execution_count": 5,
   "metadata": {},
   "outputs": [
    {
     "name": "stdout",
     "output_type": "stream",
     "text": [
      "La raíz cuadrada de 5.5 es igual a 2.345207879911715\n"
     ]
    }
   ],
   "source": [
    "mi_float_sqrt = math.sqrt(mi_float)\n",
    "print(f\"La raíz cuadrada de {mi_float} es igual a {mi_float_sqrt}\")"
   ]
  },
  {
   "cell_type": "markdown",
   "metadata": {},
   "source": [
    "Exercise 4: Select the first element from your dictionary"
   ]
  },
  {
   "cell_type": "code",
   "execution_count": 6,
   "metadata": {},
   "outputs": [
    {
     "name": "stdout",
     "output_type": "stream",
     "text": [
      " el primer elemento de mi diccionario es Euskadi\n"
     ]
    }
   ],
   "source": [
    "print(f\" el primer elemento de mi diccionario es {list(mi_diccionario)[0]}\")"
   ]
  },
  {
   "cell_type": "markdown",
   "metadata": {},
   "source": [
    "Exercise 5: Select the second element from your tuple."
   ]
  },
  {
   "cell_type": "code",
   "execution_count": 7,
   "metadata": {},
   "outputs": [
    {
     "name": "stdout",
     "output_type": "stream",
     "text": [
      "el segundo elemento de mi_tupla es Madrid\n"
     ]
    }
   ],
   "source": [
    "\n",
    "print(f\"el segundo elemento de mi_tupla es {mi_tupla[1]}\")"
   ]
  },
  {
   "cell_type": "markdown",
   "metadata": {},
   "source": [
    "Exercise 6: Add an element to the end of your list."
   ]
  },
  {
   "cell_type": "code",
   "execution_count": 8,
   "metadata": {},
   "outputs": [
    {
     "name": "stdout",
     "output_type": "stream",
     "text": [
      "['Euskadi', 'Navarra', 'Cantabria', 'Asturias', 'Galicia']\n",
      "['Euskadi', 'Navarra', 'Cantabria', 'Asturias', 'Galicia', 'Andalucía']\n"
     ]
    }
   ],
   "source": [
    "mi_lista += [\"Galicia\"]\n",
    "print(mi_lista)\n",
    "mi_lista.append(\"Andalucía\")\n",
    "print(mi_lista)"
   ]
  },
  {
   "cell_type": "markdown",
   "metadata": {},
   "source": [
    "Exercise 7: Replace the first element in your list."
   ]
  },
  {
   "cell_type": "code",
   "execution_count": 9,
   "metadata": {},
   "outputs": [
    {
     "name": "stdout",
     "output_type": "stream",
     "text": [
      "['Castilla-León', 'Navarra', 'Cantabria', 'Asturias', 'Galicia', 'Andalucía']\n"
     ]
    }
   ],
   "source": [
    "mi_lista[0]= \"Castilla-León\"\n",
    "print(mi_lista)"
   ]
  },
  {
   "cell_type": "markdown",
   "metadata": {},
   "source": [
    "Exercise 8: Sort your list alpahbetically."
   ]
  },
  {
   "cell_type": "code",
   "execution_count": 10,
   "metadata": {},
   "outputs": [
    {
     "name": "stdout",
     "output_type": "stream",
     "text": [
      "['Andalucía', 'Asturias', 'Cantabria', 'Castilla-León', 'Galicia', 'Navarra']\n",
      "['Navarra', 'Galicia', 'Castilla-León', 'Cantabria', 'Asturias', 'Andalucía']\n"
     ]
    }
   ],
   "source": [
    "mi_lista.sort()\n",
    "print(mi_lista)\n",
    "mi_lista_inversa = sorted(mi_lista,reverse=True)\n",
    "print(mi_lista_inversa)"
   ]
  },
  {
   "cell_type": "markdown",
   "metadata": {},
   "source": [
    "Exercise 9: Use reassignment to add an element to your tuple."
   ]
  },
  {
   "cell_type": "code",
   "execution_count": 11,
   "metadata": {},
   "outputs": [
    {
     "name": "stdout",
     "output_type": "stream",
     "text": [
      "('Galicia', 'Madrid', 'La Rioja', 'Extremadura')\n"
     ]
    }
   ],
   "source": [
    "mi_tupla += (\"Extremadura\",)\n",
    "print(mi_tupla)"
   ]
  },
  {
   "cell_type": "markdown",
   "metadata": {},
   "source": [
    "## Preguntas teóricas"
   ]
  },
  {
   "cell_type": "markdown",
   "metadata": {},
   "source": [
    "1. **¿Cuál es la diferencia entre una lista y una tupla en Python?.**\n",
    "\n",
    "Al igual que las variables, las listas y las tuplas sirven para almacenar información. En el caso de las variables almacenan un solo valor mientras que las listas y las tuplas pueden almacenar más de uno y además estos valores pueden ser de tipos diferentes.\n",
    "\n",
    "Las principales diferencias entre una lista y una tupla son:\n",
    "\n",
    "- Sintácticamente, la lista tiene que ir envuelta entre corchetes [], y la tupla entre paréntesis (). \n",
    "\n",
    "    *mi_lista = [\"Euskadi\",\"Navarra\",\"Cantabria\",\"Asturias\"]*  \n",
    "    *mi_tupla = (\"Galicia\",\"Madrid\",\"La Rioja\")*\n",
    "\n",
    "- Funcionalmente, las listas son ***mutables***, es decir se pueden alterar (añadir elementos, eliminar, sustituir, ordenar...) mientras que las tuplas son ***inmutables***, es decir   no se pueden alterar. En caso de necesitar realizar cualquier cambio en una tupla habría que recurrir a la reasignación.\n",
    "\n",
    "    añadir un elemento a una lista: *mi_lista.append(\"Andalucía\")*  \n",
    "    añadir un elemento a una tupla: *mi_tupla += (\"Extremadura\",)*\n",
    "\n",
    "Las tuplas se usan cuando tenemos claro que no queremos que haya cambios en los valores que hemos introducido, si vemos que puede haber necesidad de ir introduciendo cambios en estos valores es más práctico asignarlos a una lista."
   ]
  },
  {
   "cell_type": "markdown",
   "metadata": {},
   "source": [
    "2. ***¿Cuál es el orden de las operaciones?.***\n",
    "\n",
    "El orden de las operaciones en Python es el mismo que en matemáticas:\n",
    "\n",
    "1. Paréntesis       P\n",
    "2. Exponentes       E\n",
    "3. Multiplicación   M\n",
    "4. División         D\n",
    "5. Adición/Resta    A\n",
    "\n",
    "En el caso de multiplicación y división al igual que en la suma y la resta se puede invertir el orden de los mismos, por eso la clave memotécnica para recordar este orden puede ser bien PEDMA o PEMDA."
   ]
  },
  {
   "cell_type": "markdown",
   "metadata": {},
   "source": [
    "3. **¿Qué es un diccionario Python?.**\n",
    "\n",
    "Un diccionario en Python al igual que una lista o una tupla es una colección de elementos que en este caso se almacenan como clave/valor, es decir a un determinado valor o valores se le asigna una clave que sirve para identificarlo en lugar de un índice como en el caso de las listas.  De hecho si quisiéramos utilizar los índices en un diccionario deberíamos convertirlo primero a una lista.\n",
    "Estos valores pueden ir solos como en una variable o agrupados como listas o tuplas.\n",
    "\n",
    "*mi_diccionario = {\n",
    "    \"Euskadi\"    : (\"Gipuzkoa\",\"Bizkaia\",\"Araba\"),\n",
    "    \"Cantabria\"  : \"Santander\",\n",
    "    \"Asturias\"   : \"Asturias\"\n",
    "}*\n",
    "\n",
    "Si quisiéramos obtener las provincias de Euskadi deberíamos usar su clave  \n",
    "\n",
    "*provincias_eusk = mi_diccionario[\"Euskadi\"]*\n",
    "\n"
   ]
  },
  {
   "cell_type": "markdown",
   "metadata": {},
   "source": [
    "4. **¿Cuál es la diferencia entre el método ordenado y la función de ordenación?.**\n",
    "\n",
    "El método ordenado ***.sort*** se utiliza para ordenar una lista, bien de mayor a menor o viceversa si es numérica o bien alfabéticamente de la A-Z o viceversa si es un string.\n",
    "\n",
    "Tiene el siguiente formato y con la opción reverse podemos elegir el sentido de la ordenación. Realiza el cambio directamente sobre la lista elegida sin opción a asignarlo a otra lista diferente. El cambio tendrá efecto sobre la lista original lo que nos impedirá recuperar el orden que teníamos al principio.\n",
    "\n",
    "*mi_lista.sort(reverse= True/False)*\n",
    "\n",
    "La función de ordenación ***sorted()*** tiene la misma función que el método de ordenación, pero en este caso sí que nos permite almacenar el nuevo orden de nuestra lista en otra lista diferente, manteniendo el orden inicial en la lista original.\n",
    "\n",
    "*mi_lista_inversa = sorted(mi_lista,reverse=True)*\n",
    "\n",
    "\n",
    "\n"
   ]
  },
  {
   "cell_type": "markdown",
   "metadata": {},
   "source": [
    "5. **¿Qué es un operador de reasignación?.**\n",
    "\n",
    "Son operadores que permiten la reasignación de una variable siempre que el resultado final incluya a la propia variable más un operador que la modifica. Evita la repetición de la variable y simplifica el código.\n",
    "\n",
    "Son los mismos que los operadores matemáticos pero añadiéndoles un \"=\" detrás.\n",
    "*+= | -= | *= | /= | //= | **= | %=*\n",
    "\n",
    "En lugar de escribir:\n",
    "*mi_lista = mi_lista + [\"Galicia\"]*\n",
    "\n",
    "Podemos escribir:\n",
    "*mi_lista += [\"Galicia\"]*\n",
    "\n"
   ]
  }
 ],
 "metadata": {
  "kernelspec": {
   "display_name": "Python 3",
   "language": "python",
   "name": "python3"
  },
  "language_info": {
   "codemirror_mode": {
    "name": "ipython",
    "version": 3
   },
   "file_extension": ".py",
   "mimetype": "text/x-python",
   "name": "python",
   "nbconvert_exporter": "python",
   "pygments_lexer": "ipython3",
   "version": "3.12.9"
  }
 },
 "nbformat": 4,
 "nbformat_minor": 2
}
