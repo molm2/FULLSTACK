{
 "cells": [
  {
   "cell_type": "markdown",
   "metadata": {},
   "source": [
    "<div style=\"text-align: center;\">\n",
    "    <h1><strong> CHECKPOINT 5</strong> </h1>\n",
    "</div>\n",
    " "
   ]
  },
  {
   "cell_type": "markdown",
   "metadata": {},
   "source": [
    "<div style=\"text-align: center;\">\n",
    "    <h2><strong> Documentación Teórica.</strong> </h2>\n",
    "</div> "
   ]
  },
  {
   "cell_type": "markdown",
   "metadata": {},
   "source": [
    "<div> \n",
    "    <h3> <strong> 1-¿Qué es un condicional?.</strong> <h3>\n",
    "</div> \n",
    "Un condicional es una estructura que nos permite controlar el flujo de nuestro código en función de si una condición, planteada por nosotros mismos, se cumple o no. De tal manera que podemos indicar a nuestro programa que si la condición que hemos planteado se cumple realice una determinada acción y si no se cumple realice otra totalmente diferente.  \n",
    " \n",
    "Las sentencias con las que se declara un condicional son **IF,ELSE,ELIF** y dependiendo de como las agrupemos tendremos cuatro tipos de estructuras condicionales distintas: **IF, IF-ELSE, IF-ELIF-ELSE, IF anidados**."
   ]
  },
  {
   "cell_type": "markdown",
   "metadata": {},
   "source": [
    "<div style=\"padding-left: 30px;\">\n",
    "  <h4><strong>1.1. IF: </strong> </h3>\n",
    "</div>\n",
    "\n",
    "La sentencia **IF** nos permite indicarle a nuestro programa que si se cumple nuestra condición ejecute una determinada acción.  \n",
    "Si nuestra condición no se cumple el programa ignora esta acción y continúa la ejecución del código.  \n",
    "\n",
    "\n",
    "<div style=\"text-align: center; margin-top: 30px;\">\n",
    "  <img src=\"if.jpeg\" width=\"80%\"/>\n",
    "</div>\n",
    "\n",
    "La sintaxis de esta estructura es la siguiente:  \n",
    "\n",
    "<div style=\"padding-left:100px;\"> \n",
    "    <p> <strong>If (nuestra condición):<br /> \n",
    "    identación + (acción que tiene que ejecutar si la condición es cierta)  \n",
    "</strong> </p>\n",
    "</div>  \n",
    "\n",
    "La sentencia If seguida de nuestra condición y cerrando siempre con el signo de dos puntos \":\"\n",
    "En la siguiente linea declaramos la acción a ejecutar si nuestra condición se cumple, esta línea tiene que ir identada ya que está dentro de la sentencia IF.\n",
    "\n",
    "Vamos a verlo con un ejemplo:"
   ]
  },
  {
   "cell_type": "markdown",
   "metadata": {},
   "source": [
    "¿Es ***letra*** una vocal?  \n",
    "Tenemos una variable llamada ***letra*** a la que asignaremos una letra del abecedario y queremos conseguir que el programa nos avise si esa letra es una vocal."
   ]
  },
  {
   "cell_type": "code",
   "execution_count": 57,
   "metadata": {},
   "outputs": [
    {
     "name": "stdout",
     "output_type": "stream",
     "text": [
      "La a es una vocal\n",
      "El código continua\n"
     ]
    }
   ],
   "source": [
    "letra = \"a\"\n",
    "vocales= (\"a\",\"e\",\"i\",\"o\",\"u\")\n",
    "if letra.lower() in vocales:\n",
    "    print(f\"La {letra} es una vocal\")\n",
    "\n",
    "print(\"El código continua\")"
   ]
  },
  {
   "cell_type": "markdown",
   "metadata": {},
   "source": [
    "Si el programa detecta que ***letra*** es una vocal, imprime un mensaje para decirnos que lo es. En caso contrario no hace nada y continua con el código fuera del condicional."
   ]
  },
  {
   "cell_type": "markdown",
   "metadata": {},
   "source": [
    "<div style=\"padding-left: 30px;\">\n",
    "  <h4><strong>1.2. IF-ELSE: </strong> </h4>\n",
    "</div>\n",
    "\n",
    "En el código del apartado anterior si ***letra*** es una vocal el programa nos imprime un mensaje y si no es una vocal continua su flujo.  \n",
    "En este caso lo que queremos es que si se cumple la condición de ser vocal imprima un mensaje y si no, imprima otro mensaje diferente y luego continue su flujo.  \n",
    "Para eso utilizamos la sentencia **ELSE** después de declarar la condición como hemos visto en el ejemplo anterior.  "
   ]
  },
  {
   "cell_type": "markdown",
   "metadata": {},
   "source": [
    "<div style=\"text-align: center; margin-top: 30px;\">\n",
    "  <img src=\"if_else.jpeg\" width=\"80%\"/>\n",
    "</div>"
   ]
  },
  {
   "cell_type": "markdown",
   "metadata": {},
   "source": [
    "La sintaxis sería la siguiente:  \n",
    "La estructura **IF** igual que hemos visto anteriormente seguida de la sentencia **ELSE** seguida de \":\" y en la siguiente línea añadir una identación y la orden que queremos que se ejecute si la condición (expresada en el **IF**) no se cumple.  \n",
    "\n",
    "<div style=\"padding-left:100px;\"> \n",
    "    <p> <strong>If (nuestra condición):<br /> \n",
    "    identación + (acción que tiene que ejecutar si la condición es cierta) <br />\n",
    "    Else:<br />\n",
    "    identación + (acción que tiene que ejecutar si la condición es falsa) \n",
    "</strong> </p>\n",
    "</div>   \n",
    "  \n",
    "  \n",
    "¿Es ***letra*** una vocal o una consonante?  \n",
    "Continuando con el ejemplo anterior, en este caso no es suficiente que el programa nos avise cuando detecte que una letra sea vocal, queremos que cuando no lo sea también nos lo indique.  "
   ]
  },
  {
   "cell_type": "code",
   "execution_count": 58,
   "metadata": {},
   "outputs": [
    {
     "name": "stdout",
     "output_type": "stream",
     "text": [
      "La H es una consonante\n",
      "El código continua\n"
     ]
    }
   ],
   "source": [
    "letra = \"H\"\n",
    "vocales= (\"a\",\"e\",\"i\",\"o\",\"u\")\n",
    "\n",
    "if letra.lower() in vocales:\n",
    "    print(f\"La {letra} es una vocal\")\n",
    "else:\n",
    "    print(f\"La {letra} es una consonante\")\n",
    "\n",
    "print(\"El código continua\")"
   ]
  },
  {
   "cell_type": "markdown",
   "metadata": {},
   "source": [
    "Si el programa detecta que ***letra*** es una vocal, imprime un mensaje para decirnos que lo es. En caso contrario imprime otro mensaje para decirnos que es una consonante."
   ]
  },
  {
   "cell_type": "markdown",
   "metadata": {},
   "source": [
    "<div style= \"padding-left:30px;\">\n",
    "    <h4><strong> 1.3. IF-ELIF-ELSE:</strong><h4>\n",
    "</div>\n",
    "\n",
    "Podemos encontrarnos casos en los que necesitemos unir más de dos condicionales seguidas, en estas situaciones podemos encadenar todas las condicionales necesarias con la sentencida **ELIF**, siempre entre la sentencia **IF** que abre el condicional y la sentencia **ELSE** que lo cierra.\n"
   ]
  },
  {
   "cell_type": "markdown",
   "metadata": {},
   "source": [
    "<div style=\"text-align:center\";>\n",
    "    <img src=\"if_elif_else.jpeg\" style=\"width:80%\">\n",
    "</div>"
   ]
  },
  {
   "cell_type": "markdown",
   "metadata": {},
   "source": [
    "La sintaxis sería la siguiente:\n",
    "<div style=\"padding-left:100px;\"> \n",
    "    <p> <strong>If (nuestra condición):<br/> \n",
    "    identación + (acción que tiene que ejecutar si la condición es cierta) <br/>\n",
    "    Elif (nueva condición): <br /> \n",
    "    identación + (acción que tiene que ejecutar si esta condición es cierta) <br/>  \n",
    "    Else:<br/>\n",
    "    identación + (acción que tiene que ejecutar si las dos condiciones anteriores son falsas) \n",
    "</strong> </p>\n",
    "</div>   \n",
    "\n",
    "\n",
    "Podemos intercalar todos los **ELIF** que queramos pero solo puede haber un **IF** al principio y un **ELSE** al final. \n",
    "\n",
    "¿Es ***letra*** una vocal, una consonante o es la \"y\"?  \n",
    "Continuamos con nuestro ejemplo, pero en este caso ya no nos basta con diferenciar vocales y consonantes, también queremos diferenciar la \"y\" que tiene un comportamiento diferente al resto."
   ]
  },
  {
   "cell_type": "code",
   "execution_count": 60,
   "metadata": {},
   "outputs": [
    {
     "name": "stdout",
     "output_type": "stream",
     "text": [
      "La y puede ser vocal o consonante dependiendo de su posición.\n",
      "El código continua\n"
     ]
    }
   ],
   "source": [
    "letra = \"y\"\n",
    "vocales= (\"a\",\"e\",\"i\",\"o\",\"u\")\n",
    "\n",
    "if letra.lower() in vocales:\n",
    "    print(f\"La {letra} es una vocal\")\n",
    "elif letra.lower() == \"y\":\n",
    "    print(f\"La {letra} puede ser vocal o consonante dependiendo de su posición.\")\n",
    "\n",
    "else:\n",
    "    print(f\"La {letra} es una consonante\")\n",
    "\n",
    "print(\"El código continua\")"
   ]
  },
  {
   "cell_type": "markdown",
   "metadata": {},
   "source": [
    "Si el programa detecta que es una vocal, imprime un mensaje diciendo que lo es.   \n",
    "Si no es vocal pasa a la siguiente condición: si detecta que es la \"y\", imprime otro mensaje diciendo que es la \"y\".  \n",
    "Si tampoco es la \"y\", imprimirá un mensaje diciendo que es una consonante."
   ]
  },
  {
   "cell_type": "markdown",
   "metadata": {},
   "source": [
    "<div style=\"padding-left:30px\";>\n",
    "    <h4> <strong>1.4. If anidados.</strong> </h4>\n",
    "</div>\n",
    "\n",
    "En el apartado anterior hemos visto como podemos añadir todos los condicionales que necesitemos uno detrás de otro.  \n",
    "También podemos anidar condicionales unas dentro de otras, es decir si se cumple una condición la acción que ejecuta el programa es pasar a otra condición y ejecutarla.\n"
   ]
  },
  {
   "cell_type": "markdown",
   "metadata": {},
   "source": [
    "<div style = \"text-align:center; margin-top:30;\">\n",
    "    <img src=\"if_anidado.jpeg\" style=\"width:80%\">\n",
    "</div>"
   ]
  },
  {
   "cell_type": "markdown",
   "metadata": {},
   "source": [
    "¿Es ***letra*** una letra del abecedario? y si lo es ¿qué tipo de letra es: consonante, vocal o la \"y\"?  \n",
    "Podría suceder que alguien asigne a ***letra*** un valor que no sea una letra del abecedario, para prevenir esto vamos a comprobar con un primer condicional si ***letra*** pertenece al abecedario, si no pertenece ejecutaremos un mensaje de advertencia, por el contrario si pertenece al abecedario ejecuta el condicional del apartado anterior."
   ]
  },
  {
   "cell_type": "code",
   "execution_count": 62,
   "metadata": {},
   "outputs": [
    {
     "name": "stdout",
     "output_type": "stream",
     "text": [
      "1 no es una letra del abecedario\n",
      "El código continua\n"
     ]
    }
   ],
   "source": [
    "import string\n",
    "\n",
    "abecedario = list(string.ascii_letters)\n",
    "letra = \"1\"\n",
    "vocales= (\"a\",\"e\",\"i\",\"o\",\"u\")\n",
    "if letra.lower() in abecedario:\n",
    "    if letra.lower() in vocales:\n",
    "        print(f\"La {letra} es una vocal\")\n",
    "    elif letra.lower() == \"y\":\n",
    "        print(f\"La {letra} puede ser vocal o consonante dependiendo de su posición.\")\n",
    "    else:\n",
    "        print(f\"La {letra} es una consonante\")\n",
    "\n",
    "else:\n",
    "    print(f\"{letra} no es una letra del abecedario\")\n",
    "\n",
    "print(\"El código continua\")\n"
   ]
  },
  {
   "cell_type": "markdown",
   "metadata": {},
   "source": [
    "Si el programa detecta que el valor asignado a ***letra*** pertenece al abecedario, entra en el condicional del apartado anterior y lo ejecuta.  \n",
    "Si el programa detecta que el valor asignado no está dentro del abecedario imprime un mensaje de aviso."
   ]
  },
  {
   "cell_type": "markdown",
   "metadata": {},
   "source": [
    "\n",
    "<div>  \n",
    "    <h3> <strong> 2-¿Cuáles son los diferentes tipos de bucles en Python? ¿Porqué son útiles?.</strong> </h3>\n",
    "</div>  \n",
    "\n",
    "Los bucles al igual que los condicionales son estructuras de control de flujo, que nos permiten \"alterar\" el orden de flujo del código en función de nuestras necesidades.  \n",
    "En el caso de los bucles nos permiten repetir una línea de código o un bloque entero cuantas veces queramos.  \n",
    "Dependiendo si el bucle se va a repetir un número conocido o desconocido de veces, podemos diferenciar entre: \n",
    "\n",
    "- Bucles determinados, que se van a repetir tantas veces como elementos tenga la cadena de valores sobre la que vamos a iterar.  \n",
    "- Bucles indeterminados, que se van a repetir un número desconocido de veces, mientras se cumpla una determinada premisa. \n",
    "\n",
    "Los bucles determinados utilizan la sentencia **FOR-IN** y los bucles indeterminados la secuencia **WHILE**.   \n",
    "La utilización de bucles nos permite agilizar mucho nuestro código haciéndolo más efectivo y más leghible evitando repeticiones innecesarias.  \n"
   ]
  },
  {
   "cell_type": "markdown",
   "metadata": {},
   "source": [
    "<div style=\"padding-left:30px;\">\n",
    "    <h4><strong>2.1.Bucle FOR-IN.</strong><h4>\n",
    "</div>  \n",
    "\n",
    "El bucle **FOR-IN** tendría la siguiente sintaxis:  \n",
    "\n",
    "<div style=\"padding-left:100px;\"> \n",
    "    <p> <strong> for \"variable\" in \"cadena a recorrer\":  <br />   \n",
    "identación + \"cuerpo del bucle\" </strong> </p>\n",
    "</div>\n",
    "\n",
    "Podemos darle el nombre que queramos a \"variable\" aunque siempre que se pueda, es preferible nombrar nuestra cadena en plural y la variable con el mismo nombre en singular.  \n",
    "El número de elementos de la cadena a recorrer es el que marca el número de veces que se repetirá el bucle.  \n",
    "Esta cadena a recorrer puede ser una lista, una tupla, un diccionario, un string... "
   ]
  },
  {
   "cell_type": "markdown",
   "metadata": {},
   "source": [
    "<div style = \"text-align:center; margin-top:30;\">\n",
    "    <img src=\"for_in.jpeg\" style=\"width:80%\">\n",
    "</div>"
   ]
  },
  {
   "cell_type": "code",
   "execution_count": 63,
   "metadata": {},
   "outputs": [
    {
     "name": "stdout",
     "output_type": "stream",
     "text": [
      "a-e-i-o-u-a e i o u "
     ]
    }
   ],
   "source": [
    "vocales = (\"a\",\"e\",\"i\",\"o\",\"u\")\n",
    "for vocal in vocales:\n",
    "    print(vocal,end=\"-\")\n",
    "\n",
    "vocales = [\"a\",\"e\",\"i\",\"o\",\"u\"]\n",
    "for vocal in vocales:\n",
    "    print(vocal,end=\" \")"
   ]
  },
  {
   "cell_type": "markdown",
   "metadata": {},
   "source": [
    "Como vemos funciona por igual con una tupla y con una lista.  \n",
    "Empieza recorriendo el bucle por el primer elemento (la letra \"a\"), lo imprime y pasa al siguiente elemento (la letra \"e\"), lo imprime y continua repitiendo el proceso hasta que llega al último elemento con el que finaliza el bucle."
   ]
  },
  {
   "cell_type": "markdown",
   "metadata": {},
   "source": [
    "También puede aplicarse a un dicicionario."
   ]
  },
  {
   "cell_type": "code",
   "execution_count": 64,
   "metadata": {},
   "outputs": [
    {
     "name": "stdout",
     "output_type": "stream",
     "text": [
      "tipo vocales\n",
      "letra ['a', 'e', 'i', 'o', 'u']\n",
      "tipo consonantes\n",
      "letra ['b', 'c', 'd', 'e']\n",
      "tipo especial\n",
      "letra ['y']\n"
     ]
    }
   ],
   "source": [
    "diccionario = {\n",
    "    \"vocales\" : [\"a\",\"e\",\"i\",\"o\",\"u\"],\n",
    "    \"consonantes\": [\"b\",\"c\",\"d\",\"e\"],\n",
    "    \"especial\" : [\"y\"]\n",
    "}\n",
    "for clase,letra in diccionario.items():\n",
    "    print(\"tipo\",clase)\n",
    "    print(\"letra\", letra)"
   ]
  },
  {
   "cell_type": "markdown",
   "metadata": {},
   "source": [
    "Si solo necesitamos recorrer uno de los elementos del diccionario, por ejemplo las vocales:"
   ]
  },
  {
   "cell_type": "code",
   "execution_count": 65,
   "metadata": {},
   "outputs": [
    {
     "name": "stdout",
     "output_type": "stream",
     "text": [
      "a e i o u "
     ]
    }
   ],
   "source": [
    "diccionario = {\n",
    "    \"vocales\" : [\"a\",\"e\",\"i\",\"o\",\"u\"],\n",
    "    \"consonantes\": [\"b\",\"c\",\"d\",\"e\"],\n",
    "    \"especial\" : [\"y\"]\n",
    "}\n",
    "for letra in diccionario[\"vocales\"]:\n",
    "    print(letra,end=\" \")"
   ]
  },
  {
   "cell_type": "markdown",
   "metadata": {},
   "source": [
    "También se pueden aplicar a strings, en este caso el bucle recorrerá letra a letra nuestro string.  \n",
    "En este ejemplo vamos a recorrer un string para comprobar si contiene el símbolo \"@\". \n",
    "Si lo tiene lo aceptamos como un formato correcto de mail."
   ]
  },
  {
   "cell_type": "code",
   "execution_count": 66,
   "metadata": {},
   "outputs": [
    {
     "name": "stdout",
     "output_type": "stream",
     "text": [
      "El mail tiene formato correcto\n"
     ]
    }
   ],
   "source": [
    "mail= \"fullstack@gmail.com\"\n",
    "for i in mail :\n",
    "    if i ==\"@\":\n",
    "       print(\"El mail tiene formato correcto\") "
   ]
  },
  {
   "cell_type": "markdown",
   "metadata": {},
   "source": [
    "En este caso no necesitamos recorrer todo el string, una vez que ha encontrado la \"@\" no hace falta que continúe el bucle.  \n",
    "Podemos usar la instrucción **break** para interrumpir el bucle en el momento que nos interese. Para comprobarlo vamos a añadir un **else** para que vaya imprimiendo un mensaje de comprobación cada vez que encuentra una letra que no es la \"@\" y en el momento que la encuentre el **break** detiene las comprobaciones."
   ]
  },
  {
   "cell_type": "code",
   "execution_count": 67,
   "metadata": {},
   "outputs": [
    {
     "name": "stdout",
     "output_type": "stream",
     "text": [
      "El formato es incorrecto\n",
      "El formato es incorrecto\n",
      "El formato es incorrecto\n",
      "El formato es incorrecto\n",
      "El formato es incorrecto\n",
      "El formato es incorrecto\n",
      "El formato es incorrecto\n",
      "El formato es incorrecto\n",
      "El formato es incorrecto\n",
      "El mail tiene formato correcto\n"
     ]
    }
   ],
   "source": [
    "mail= \"fullstack@gmail.com\"\n",
    "for i in mail :\n",
    "    if i ==\"@\":\n",
    "        print(\"El mail tiene formato correcto\") \n",
    "        break\n",
    "    else:\n",
    "        print(\"El formato es incorrecto\")"
   ]
  },
  {
   "cell_type": "markdown",
   "metadata": {},
   "source": [
    "También podemos utilizar la instrucción **continue**, cuando queremos pasar de largo de determinados elementos y centrarnos en otros.  \n",
    "Siguiendo con el ejemplo de las vocales, vamos a imprimir las consonantes. Para ello utilizamos **continue** cuando encontremos una vocal para que la ignore e imprima solo las que no son vocales."
   ]
  },
  {
   "cell_type": "code",
   "execution_count": 68,
   "metadata": {},
   "outputs": [
    {
     "name": "stdout",
     "output_type": "stream",
     "text": [
      "b c d f g h j k l m n p q r s t v w x y z "
     ]
    }
   ],
   "source": [
    "abecedario = list(string.ascii_lowercase)\n",
    "vocales = (\"a\",\"e\",\"i\",\"o\",\"u\")\n",
    "for letra in abecedario:\n",
    "    if letra in vocales:\n",
    "        continue\n",
    "    else:\n",
    "        print(letra, end=\" \")"
   ]
  },
  {
   "cell_type": "markdown",
   "metadata": {},
   "source": [
    "<div style=\"padding-left:30px;\">\n",
    "    <h4><strong>2.2.Bucle WHILE.</strong><h4>\n",
    "</div>  \n",
    "\n",
    "El bucle **WHILE** tendría la siguiente sintaxis:  \n",
    "\n",
    "<div style=\"padding-left:100px;\"> \n",
    "    <p> <strong> while (condición):  <br />   \n",
    "identación + (cuerpo del bucle) </strong> </p>\n",
    "</div>  \n",
    "\n",
    "Mientras se cumpla la condición declarada, el bucle seguirá indefinidamente hasta que la condición deje de cumplirse y se interrumpa el bucle.  \n",
    "Este tipo de bucle tiene el problema de que si no definimos bien la condición o el punto de parada puede generar un bucle infinito y quedarse anclado en ese punto sin avanzar en el código."
   ]
  },
  {
   "cell_type": "markdown",
   "metadata": {},
   "source": [
    "<div style=\"text-align:center\";>\n",
    "    <img src=\"while.jpeg\" style=\"width:80%\";>\n",
    "</div>"
   ]
  },
  {
   "cell_type": "markdown",
   "metadata": {},
   "source": [
    "A modo de ejemplo vamos a crear una función que calcule el factorial de un número.  \n",
    "N será el número del que queremos calcular el factorial, mientras n sea mayor que 0, el bucle se ejecuta pero en cada vuelta vamos reduciendo n en una unidad. De esta manera nos aseguramos que el bucle se repita únicamente las n veces que necesitamos para realizar nuestro cálculo."
   ]
  },
  {
   "cell_type": "code",
   "execution_count": 69,
   "metadata": {},
   "outputs": [
    {
     "name": "stdout",
     "output_type": "stream",
     "text": [
      "720\n"
     ]
    }
   ],
   "source": [
    "def factorial(n):\n",
    "    resultado =1\n",
    "    while n>0:\n",
    "        resultado= resultado* n\n",
    "        n=n-1\n",
    "    return(resultado)\n",
    "\n",
    "print(factorial(6))\n"
   ]
  },
  {
   "cell_type": "markdown",
   "metadata": {},
   "source": [
    "<div>  \n",
    "    <h3> <strong> 3-¿Qué es una lista por comprensión en Python?.</strong> </h3>\n",
    "</div>  \n",
    "\n",
    "Una lista por comprensión es una forma rápida de generar listas a partir de otra secuencia de valores aplicando una operación. Esto nos permite crear un bucle **FOR-IN** en una sola línea de código resultando más rápidas y legibles (siempre que no se compliquen demasiado), que un bucle **FOR-IN** tradicional.  \n",
    "\n",
    "Su sintaxis es la siguiente:\n",
    "lista_comp = operación **for** elemento **in** cadena a recorrer (puede haber una condición adicional). El resultado será una lista."
   ]
  },
  {
   "cell_type": "markdown",
   "metadata": {},
   "source": [
    "Podemos repetir el ejemplo realizado en el apartado del bucle for para imprimir todas las consonantes, pero esta vez usando una lista por comprensión:"
   ]
  },
  {
   "cell_type": "code",
   "execution_count": 70,
   "metadata": {},
   "outputs": [
    {
     "name": "stdout",
     "output_type": "stream",
     "text": [
      "['b', 'c', 'd', 'f', 'g', 'h', 'j', 'k', 'l', 'm', 'n', 'p', 'q', 'r', 's', 't', 'v', 'w', 'x', 'y', 'z']\n"
     ]
    }
   ],
   "source": [
    "import string\n",
    "vocales = (\"a\",\"e\",\"i\",\"o\",\"u\")\n",
    "letras = list(string.ascii_lowercase)\n",
    "consonantes = [letra for letra in letras if letra not in vocales]\n",
    "print (consonantes)"
   ]
  },
  {
   "cell_type": "markdown",
   "metadata": {},
   "source": [
    "<div>  \n",
    "    <h3> <strong> 4-¿Qué es un argumento en Python?.</strong> </h3>\n",
    "</div>  "
   ]
  },
  {
   "cell_type": "markdown",
   "metadata": {},
   "source": [
    "Los argumentos son valores que se pasan a una función para que realice una tarea específica.  \n",
    "Los argumentos nos permiten dotar de flexibilidad a nuestra función.  \n",
    "En el siguiente ejemplo tenemos una función sin argumentos:"
   ]
  },
  {
   "cell_type": "code",
   "execution_count": 71,
   "metadata": {},
   "outputs": [
    {
     "name": "stdout",
     "output_type": "stream",
     "text": [
      "5.0\n"
     ]
    }
   ],
   "source": [
    "def div():\n",
    "    print(10/2)\n",
    "\n",
    "div()"
   ]
  },
  {
   "cell_type": "markdown",
   "metadata": {},
   "source": [
    "Esta función siempre será la misma: la división de 10 entre 2.  \n",
    "Si lo que nos interesa es declarar una función que pueda dividir dos números cualesquiera, entonces necesitamos usar los argumentos.  \n",
    "Los argumentos en este caso son ***num1*** y ***num2*** que podrán tomar diferentes valores en función de nuestras necesidades."
   ]
  },
  {
   "cell_type": "code",
   "execution_count": 72,
   "metadata": {},
   "outputs": [
    {
     "name": "stdout",
     "output_type": "stream",
     "text": [
      "5.0\n"
     ]
    }
   ],
   "source": [
    "def div(num1,num2):\n",
    "    print(num1 / num2)\n",
    "\n",
    "\n",
    "div(10,2)"
   ]
  },
  {
   "cell_type": "markdown",
   "metadata": {},
   "source": [
    "En este caso hemos asignado los valores de los argumentos en base a su posición: **argumentos posicionales**.  \n",
    "Podría ser que no nos acordemos del orden en el que están declarados los argumentos en la función.  \n",
    "En este caso podemos asignar los valores utilizando su nombre: **argumentos con nombre**"
   ]
  },
  {
   "cell_type": "code",
   "execution_count": 73,
   "metadata": {},
   "outputs": [
    {
     "name": "stdout",
     "output_type": "stream",
     "text": [
      "5.0\n"
     ]
    }
   ],
   "source": [
    "div(num2=2,num1=10)"
   ]
  },
  {
   "cell_type": "markdown",
   "metadata": {},
   "source": [
    "Los argumentos también nos permiten pasar valores por defecto, de tal manera que si no asignamos ningún valor a ese argumento tomará el valor por defecto.  \n",
    "Si por el contrario le asignamos un valor, este se sobreescribirá por encima del valor por defecto siendo el que utilice la función."
   ]
  },
  {
   "cell_type": "code",
   "execution_count": 74,
   "metadata": {},
   "outputs": [
    {
     "name": "stdout",
     "output_type": "stream",
     "text": [
      "5.0\n",
      "2.0\n"
     ]
    }
   ],
   "source": [
    "def div(num1,num2=2):\n",
    "    print(num1/num2)\n",
    "\n",
    "div(10)\n",
    "div(10,5)"
   ]
  },
  {
   "cell_type": "markdown",
   "metadata": {},
   "source": [
    "Otra opción es declarar argumentos con longitud indeterminada, de tal manera que en cada caso el argumento pueda tener una longitud distinta.  \n",
    "Para eso usamos **\"*args\"**."
   ]
  },
  {
   "cell_type": "code",
   "execution_count": 75,
   "metadata": {},
   "outputs": [
    {
     "name": "stdout",
     "output_type": "stream",
     "text": [
      "3.0\n",
      "3.5\n"
     ]
    }
   ],
   "source": [
    "def media(*args):\n",
    "   return sum(args)/len(args)\n",
    "\n",
    "\n",
    "print(media(2,3,4))\n",
    "print(media(1,2,3,4,5,6))\n"
   ]
  },
  {
   "cell_type": "markdown",
   "metadata": {},
   "source": [
    "Podemos hacer lo mismo utilizando diccionarios y pasando los valores a la función en formato clave-valor.  \n",
    "En este caso empleamos el formato **kwargs."
   ]
  },
  {
   "cell_type": "markdown",
   "metadata": {},
   "source": [
    "Vamos a combinar las dos opciones para crear una función que nos calcule la anotación media de un jugador de baloncesto.  \n",
    "Primero utilizaremos *args para indicar las anotaciones por partido del jugador (algunos jugadores juegan más partidos que otros.)  \n",
    "Después utilizaremos **kwargs para añadir información sobre el jugador, en este caso nombre y equipo.  "
   ]
  },
  {
   "cell_type": "code",
   "execution_count": 76,
   "metadata": {},
   "outputs": [
    {
     "name": "stdout",
     "output_type": "stream",
     "text": [
      "Anotación media:\n",
      "Equipo Baskonia\n",
      "Jugador Moneke\n",
      "16.75\n",
      "Anotación media= 16.75\n"
     ]
    }
   ],
   "source": [
    "def anotacion_media (*args,**kwargs):\n",
    "    anotacion = sum(args)/ len(args)\n",
    "    if kwargs:\n",
    "        print(f\"Anotación media:\")\n",
    "        for key,value in kwargs.items():\n",
    "            print(f\"{key} {value}\")\n",
    "        print(f\"{anotacion}\")\n",
    "    else:\n",
    "        print(f\"Anotación media= {anotacion}\")\n",
    "\n",
    "\n",
    "anotacion_media (22,15,18,12,\n",
    "                 Equipo = \"Baskonia\",\n",
    "                 Jugador= \"Moneke\")\n",
    "\n",
    "anotacion_media (22,15,18,12)"
   ]
  },
  {
   "cell_type": "markdown",
   "metadata": {},
   "source": [
    "<div>  \n",
    "    <h3> <strong> 5-¿Qué es una función lambda en Python?.</strong> </h3>\n",
    "</div>  \n",
    "\n",
    "La función lambda es una función de Python de formato predeterminado que nos permite generar funciones cortas y simples de una manera más ágil.  \n",
    "Su sintaxis es muy sencilla:\n",
    "lamda argumentos: instrucción para la función.\n",
    "Puede admitir tantos argumentos como queramos pero su función principal es para utilizarla con pocos argumentos e instrucciones simples, si necesitamos muchos argumentos e instrucciones más complejas mejor utilizar la instrucción **def** para definir nuestra función."
   ]
  },
  {
   "cell_type": "markdown",
   "metadata": {},
   "source": [
    "Vamos a crear una función que nos calcule el cuadrado de un número primero con la instrucción def y luego con la función lambda."
   ]
  },
  {
   "cell_type": "code",
   "execution_count": 77,
   "metadata": {},
   "outputs": [
    {
     "data": {
      "text/plain": [
       "4"
      ]
     },
     "execution_count": 77,
     "metadata": {},
     "output_type": "execute_result"
    }
   ],
   "source": [
    "def cuadrado(num):\n",
    "    return num*2\n",
    "cuadrado(2)"
   ]
  },
  {
   "cell_type": "markdown",
   "metadata": {},
   "source": [
    "Con la función lambda conseguimos lo mismo con un código más compacto."
   ]
  },
  {
   "cell_type": "code",
   "execution_count": 78,
   "metadata": {},
   "outputs": [
    {
     "data": {
      "text/plain": [
       "8"
      ]
     },
     "execution_count": 78,
     "metadata": {},
     "output_type": "execute_result"
    }
   ],
   "source": [
    "cuadrado = lambda num : num*2\n",
    "cuadrado(4)"
   ]
  },
  {
   "cell_type": "markdown",
   "metadata": {},
   "source": [
    "<div>  \n",
    "    <h3> <strong> 6-¿Qué es un paquete Pip?.</strong> </h3>\n",
    "</div>  "
   ]
  },
  {
   "cell_type": "markdown",
   "metadata": {},
   "source": [
    "Python es un lenguaje de programación que utiliza lo que se llaman librerías o paquetes, que están diseñados para mejorar la funcionalidad de Python.  \n",
    "Estos paquetes están orientados a áreas concretas de la programación (operadores matemáticos, cálculos estadísticos, manejo de strings, realización de gráficos...), ofreciendo funciones más específicas y completas que las que puede ofrecernos el lenguaje básico de Python.   \n",
    "Algunos de estos paquetes vienen instalados por defecto en Python, pertenecen a la \"Biblioteca standard de Python\", y solo tenemos que \"llamarlos\" desde dentro de Python para poder utilizarlos.  \n",
    "Por ejemplo el paquete **statistics** que nos permite realizar cálculos estadísticos como hallar la media o la mediana de nuestros datos.  \n",
    "En este caso, basta usar la instrucción **import** para \"activarlo\" y poder utilizarlo."
   ]
  },
  {
   "cell_type": "code",
   "execution_count": 79,
   "metadata": {},
   "outputs": [
    {
     "name": "stdout",
     "output_type": "stream",
     "text": [
      "5\n",
      "4\n"
     ]
    }
   ],
   "source": [
    "import statistics\n",
    "datos = [2,5,3,7,8,3,2,10]\n",
    "print(round(statistics.mean(datos)))\n",
    "print(round(statistics.median(datos)))"
   ]
  },
  {
   "cell_type": "markdown",
   "metadata": {},
   "source": [
    "Sin embargo, hay otra gran cantidad de paquetes que no pertencen a la \"Biblioteca standard de Python\", digamos que pertenecen a \"bibliotecas externas\" y para poder utilizarlos debemos primero descargarlos para ponerlos a disposición de nuestra versión de Python, son los llamados **paquetes Pip**. \n",
    "La mayoría de estos **paquetes Pip** se almacenan en un repositorio común **Pypi** (Indice de paquetes de Python), y para facilitar su descarga se utilizan los gestores de paquetes.  \n",
    "Un gestor de paquetes facilita la descarga de los diferentes paquetes junto a las dependencias necesarias para su buen funcionamiento de la forma más rápida y segura.  \n",
    "El gestor de paquetes más utilizado es **pip**(pip install packages), **pip** accede a todo tipo de paquetes Python bien desde el repositorio **Pypi**, bien desde otro tipo de repositorios como GitHub.  \n",
    "Una vez instalado **pip** en nuestra versión de Python, la descarga de **paquetes pip** es muy sencilla: basta con la instrucción ***pip install nombre_paquete***.  \n",
    "En este caso vamos a instalar la librería **pandas**, muy utilizada para análisis y manipulación de datos. "
   ]
  },
  {
   "cell_type": "code",
   "execution_count": null,
   "metadata": {},
   "outputs": [],
   "source": [
    "pip install pandas"
   ]
  },
  {
   "cell_type": "markdown",
   "metadata": {},
   "source": [
    "Probamos el correcto funcionamiento de pandas.  \n",
    "Creamos un dataframe con varios jugadores y sus anotaciones y le pedimos que nos devuelva la anotación media de cada uno."
   ]
  },
  {
   "cell_type": "code",
   "execution_count": 55,
   "metadata": {},
   "outputs": [
    {
     "data": {
      "text/html": [
       "<div>\n",
       "<style scoped>\n",
       "    .dataframe tbody tr th:only-of-type {\n",
       "        vertical-align: middle;\n",
       "    }\n",
       "\n",
       "    .dataframe tbody tr th {\n",
       "        vertical-align: top;\n",
       "    }\n",
       "\n",
       "    .dataframe thead th {\n",
       "        text-align: right;\n",
       "    }\n",
       "</style>\n",
       "<table border=\"1\" class=\"dataframe\">\n",
       "  <thead>\n",
       "    <tr style=\"text-align: right;\">\n",
       "      <th></th>\n",
       "      <th>Moneke</th>\n",
       "      <th>Howard</th>\n",
       "      <th>Hall</th>\n",
       "      <th>Raieste</th>\n",
       "    </tr>\n",
       "  </thead>\n",
       "  <tbody>\n",
       "    <tr>\n",
       "      <th>0</th>\n",
       "      <td>22</td>\n",
       "      <td>10</td>\n",
       "      <td>21</td>\n",
       "      <td>15</td>\n",
       "    </tr>\n",
       "    <tr>\n",
       "      <th>1</th>\n",
       "      <td>15</td>\n",
       "      <td>15</td>\n",
       "      <td>13</td>\n",
       "      <td>8</td>\n",
       "    </tr>\n",
       "    <tr>\n",
       "      <th>2</th>\n",
       "      <td>12</td>\n",
       "      <td>14</td>\n",
       "      <td>14</td>\n",
       "      <td>6</td>\n",
       "    </tr>\n",
       "    <tr>\n",
       "      <th>3</th>\n",
       "      <td>18</td>\n",
       "      <td>8</td>\n",
       "      <td>10</td>\n",
       "      <td>12</td>\n",
       "    </tr>\n",
       "  </tbody>\n",
       "</table>\n",
       "</div>"
      ],
      "text/plain": [
       "   Moneke  Howard  Hall  Raieste\n",
       "0      22      10    21       15\n",
       "1      15      15    13        8\n",
       "2      12      14    14        6\n",
       "3      18       8    10       12"
      ]
     },
     "execution_count": 55,
     "metadata": {},
     "output_type": "execute_result"
    }
   ],
   "source": [
    "import pandas as pd\n",
    "\n",
    "df = pd.DataFrame({\n",
    "    'Moneke': [22,15,12,18],\n",
    "    'Howard': [10,15,14,8],\n",
    "    'Hall': [21, 13, 14, 10],\n",
    "    'Raieste': [15,8,6,12]\n",
    "})\n",
    "\n",
    "df"
   ]
  },
  {
   "cell_type": "code",
   "execution_count": 56,
   "metadata": {},
   "outputs": [
    {
     "name": "stdout",
     "output_type": "stream",
     "text": [
      "Moneke     16.75\n",
      "Howard     11.75\n",
      "Hall       14.50\n",
      "Raieste    10.25\n",
      "dtype: float64\n"
     ]
    }
   ],
   "source": [
    "promedios = df[df.columns[0:4]].mean()\n",
    "print(promedios)"
   ]
  },
  {
   "cell_type": "markdown",
   "metadata": {},
   "source": [
    "<div style=\"text-align: center;\">\n",
    "    <h2><strong> Ejercicio Práctico.</strong> </h2>\n",
    "</div> "
   ]
  },
  {
   "cell_type": "markdown",
   "metadata": {},
   "source": [
    "<div>  \n",
    "    <h3> <strong> 1-Crea un bucle for de Python.</strong> </h3>\n",
    "</div>  "
   ]
  },
  {
   "cell_type": "markdown",
   "metadata": {},
   "source": [
    "Creamos un bucle que imprima los números pares del 1 al 50 incluídos."
   ]
  },
  {
   "cell_type": "code",
   "execution_count": 52,
   "metadata": {},
   "outputs": [
    {
     "name": "stdout",
     "output_type": "stream",
     "text": [
      "2 4 6 8 10 12 14 16 18 20 22 24 26 28 30 32 34 36 38 40 42 44 46 48 50 "
     ]
    }
   ],
   "source": [
    "for i in range(1,51):\n",
    "    if i % 2 != 0:\n",
    "        continue\n",
    "    else:\n",
    "        print(i,end=\" \")"
   ]
  },
  {
   "cell_type": "markdown",
   "metadata": {},
   "source": [
    "<div>  \n",
    "    <h3> <strong> 2-Crea una función suma con 3 argumentos y devuelva la suma de los 3.</strong> </h3>\n",
    "</div>  "
   ]
  },
  {
   "cell_type": "code",
   "execution_count": 81,
   "metadata": {},
   "outputs": [
    {
     "name": "stdout",
     "output_type": "stream",
     "text": [
      "17\n"
     ]
    }
   ],
   "source": [
    "def suma(num1,num2,num3):\n",
    "    resultado = num1 + num2 + num3\n",
    "    return(resultado)\n",
    "\n",
    "print(suma(3,5,9))"
   ]
  },
  {
   "cell_type": "markdown",
   "metadata": {},
   "source": [
    "<div>  \n",
    "    <h3> <strong> 3-Crea una función lambda para el caso anterior.</strong> </h3>\n",
    "</div>  "
   ]
  },
  {
   "cell_type": "code",
   "execution_count": null,
   "metadata": {},
   "outputs": [
    {
     "data": {
      "text/plain": [
       "6"
      ]
     },
     "execution_count": 28,
     "metadata": {},
     "output_type": "execute_result"
    }
   ],
   "source": [
    "suma_lambda = lambda num1,num2,num3: num1 + num2 + num3\n",
    "suma_lambda(1,2,3)"
   ]
  },
  {
   "cell_type": "markdown",
   "metadata": {},
   "source": [
    "<div>  \n",
    "    <h3> <strong>4-¿Coincide el valor de la variable con un valor de la lista?.</strong> </h3>\n",
    "</div>  "
   ]
  },
  {
   "cell_type": "code",
   "execution_count": 116,
   "metadata": {},
   "outputs": [
    {
     "name": "stdout",
     "output_type": "stream",
     "text": [
      "Enrique no está en la lista\n"
     ]
    }
   ],
   "source": [
    "nombre = \"Enrique\"\n",
    "lista_nombre = [\"Jessica\",\"Paul\",\"George\",\"Henry\",\"Adán\"]\n",
    "if nombre in lista_nombre:\n",
    "    print(f\"{nombre} está en la lista\")\n",
    "else:\n",
    "    print(f\"{nombre} no está en la lista\")"
   ]
  }
 ],
 "metadata": {
  "kernelspec": {
   "display_name": "Python 3",
   "language": "python",
   "name": "python3"
  },
  "language_info": {
   "codemirror_mode": {
    "name": "ipython",
    "version": 3
   },
   "file_extension": ".py",
   "mimetype": "text/x-python",
   "name": "python",
   "nbconvert_exporter": "python",
   "pygments_lexer": "ipython3",
   "version": "3.13.2"
  }
 },
 "nbformat": 4,
 "nbformat_minor": 2
}
